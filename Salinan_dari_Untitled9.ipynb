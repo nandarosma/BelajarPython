{
  "nbformat": 4,
  "nbformat_minor": 0,
  "metadata": {
    "colab": {
      "provenance": [],
      "authorship_tag": "ABX9TyOI7zy3gwFctgCRskUinrDE",
      "include_colab_link": true
    },
    "kernelspec": {
      "name": "python3",
      "display_name": "Python 3"
    },
    "language_info": {
      "name": "python"
    }
  },
  "cells": [
    {
      "cell_type": "markdown",
      "metadata": {
        "id": "view-in-github",
        "colab_type": "text"
      },
      "source": [
        "<a href=\"https://colab.research.google.com/github/nandarosma/BelajarPython/blob/main/Salinan_dari_Untitled9.ipynb\" target=\"_parent\"><img src=\"https://colab.research.google.com/assets/colab-badge.svg\" alt=\"Open In Colab\"/></a>"
      ]
    },
    {
      "cell_type": "code",
      "execution_count": 2,
      "metadata": {
        "colab": {
          "base_uri": "https://localhost:8080/"
        },
        "id": "BwtsJmsfPa2Y",
        "outputId": "dc2354ed-a43c-4af1-be01-88dd14d86085"
      },
      "outputs": [
        {
          "output_type": "stream",
          "name": "stdout",
          "text": [
            "Requirement already satisfied: nltk in /usr/local/lib/python3.10/dist-packages (3.8.1)\n",
            "Requirement already satisfied: click in /usr/local/lib/python3.10/dist-packages (from nltk) (8.1.7)\n",
            "Requirement already satisfied: joblib in /usr/local/lib/python3.10/dist-packages (from nltk) (1.4.2)\n",
            "Requirement already satisfied: regex>=2021.8.3 in /usr/local/lib/python3.10/dist-packages (from nltk) (2024.9.11)\n",
            "Requirement already satisfied: tqdm in /usr/local/lib/python3.10/dist-packages (from nltk) (4.66.5)\n",
            "Total number of words (excluding punctuation): 100\n",
            "Tokenized words: ['universitas', 'pelita', 'bangsa', 'yang', 'terletak', 'di', 'cikarang', 'bekasi', 'adalah', 'salah', 'satu', 'universitas', 'swasta', 'yang', 'terus', 'berkembang', 'pesat', 'di', 'indonesia', 'kampus', 'ini', 'menawarkan', 'berbagai', 'program', 'studi', 'mulai', 'dari', 'teknik', 'informatika', 'manajemen', 'hingga', 'ilmu', 'hukum', 'yang', 'semuanya', 'dirancang', 'untuk', 'membekali', 'mahasiswa', 'dengan', 'keterampilan', 'yang', 'relevan', 'di', 'dunia', 'kerja', 'dengan', 'lokasi', 'strategis', 'di', 'kawasan', 'industri', 'apakah', 'ini', 'bukan', 'keuntungan', 'besar', 'universitas', 'pelita', 'bangsa', 'memiliki', 'banyak', 'keunggulan', 'termasuk', 'akses', 'mudah', 'ke', 'berbagai', 'perusahaan', 'besar', 'untuk', 'keperluan', 'magang', 'dan', 'kerja', 'sama', 'industri', 'visi', 'kampus', 'ini', 'adalah', 'mencetak', 'lulusan', 'yang', 'berdaya', 'saing', 'tinggi', 'melalui', 'pengajaran', 'yang', 'berkualitas', 'dan', 'fasilitas', 'modern', 'wow', 'yang', 'didukung', 'oleh', 'dosen-dosen', 'berpengalaman']\n"
          ]
        },
        {
          "output_type": "stream",
          "name": "stderr",
          "text": [
            "[nltk_data] Downloading package punkt to /root/nltk_data...\n",
            "[nltk_data]   Package punkt is already up-to-date!\n"
          ]
        }
      ],
      "source": [
        "!pip install nltk\n",
        "import nltk\n",
        "from nltk.tokenize import word_tokenize\n",
        "import string\n",
        "nltk.download('punkt')\n",
        "\n",
        "text = \"\"\"\n",
        "Universitas Pelita Bangsa, yang terletak di Cikarang, Bekasi, adalah salah satu universitas swasta yang terus berkembang pesat di Indonesia! Kampus ini menawarkan berbagai program studi, mulai dari Teknik Informatika, Manajemen, hingga Ilmu Hukum, yang semuanya dirancang untuk membekali mahasiswa dengan keterampilan yang relevan di dunia kerja. Dengan lokasi strategis di kawasan industri (apakah ini bukan keuntungan besar?), Universitas Pelita Bangsa memiliki banyak keunggulan, termasuk akses mudah ke berbagai perusahaan besar untuk keperluan magang dan kerja sama industri! Visi kampus ini adalah mencetak lulusan yang berdaya saing tinggi melalui pengajaran yang berkualitas dan fasilitas modern (wow!), yang didukung oleh dosen-dosen berpengalaman.\n",
        "\"\"\"\n",
        "\n",
        "lowercase_text = text.lower()\n",
        "words = word_tokenize(lowercase_text)\n",
        "words_cleaned = [word for word in words if word not in string.punctuation]\n",
        "word_count = len(words_cleaned)\n",
        "print(f'Total number of words (excluding punctuation): {word_count}')\n",
        "print(f'Tokenized words: {words_cleaned}')"
      ]
    }
  ]
}
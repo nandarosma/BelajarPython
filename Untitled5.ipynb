{
  "nbformat": 4,
  "nbformat_minor": 0,
  "metadata": {
    "colab": {
      "provenance": [],
      "authorship_tag": "ABX9TyOcR3qcZOXeqvHUmwKnc4wX",
      "include_colab_link": true
    },
    "kernelspec": {
      "name": "python3",
      "display_name": "Python 3"
    },
    "language_info": {
      "name": "python"
    }
  },
  "cells": [
    {
      "cell_type": "markdown",
      "metadata": {
        "id": "view-in-github",
        "colab_type": "text"
      },
      "source": [
        "<a href=\"https://colab.research.google.com/github/nandarosma/BelajarPython/blob/main/Untitled5.ipynb\" target=\"_parent\"><img src=\"https://colab.research.google.com/assets/colab-badge.svg\" alt=\"Open In Colab\"/></a>"
      ]
    },
    {
      "cell_type": "code",
      "execution_count": 2,
      "metadata": {
        "colab": {
          "base_uri": "https://localhost:8080/"
        },
        "id": "sUybM8AcLPkP",
        "outputId": "59cc9735-71a9-44be-b065-19165292aa7e"
      },
      "outputs": [
        {
          "output_type": "stream",
          "name": "stdout",
          "text": [
            "Requirement already satisfied: nltk in /usr/local/lib/python3.10/dist-packages (3.8.1)\n",
            "Requirement already satisfied: click in /usr/local/lib/python3.10/dist-packages (from nltk) (8.1.7)\n",
            "Requirement already satisfied: joblib in /usr/local/lib/python3.10/dist-packages (from nltk) (1.4.2)\n",
            "Requirement already satisfied: regex>=2021.8.3 in /usr/local/lib/python3.10/dist-packages (from nltk) (2024.9.11)\n",
            "Requirement already satisfied: tqdm in /usr/local/lib/python3.10/dist-packages (from nltk) (4.66.5)\n",
            "Nama: Nanda Rosma Anwar\n",
            "Nim: 312110291\n",
            "Tokenisasi Kata: ['javascript', 'populer', 'di', 'internet', 'dan', 'dapat', 'bekerja', 'di', 'sebagian', 'besar', 'penjelajah', 'web', 'populer', 'seperti', 'google', 'chrome', 'internet', 'explorer', 'mozilla', 'firefox', 'netscape', 'dan', 'opera']\n",
            "Jumlah Kata: 23\n"
          ]
        },
        {
          "output_type": "stream",
          "name": "stderr",
          "text": [
            "[nltk_data] Downloading package punkt to /root/nltk_data...\n",
            "[nltk_data]   Package punkt is already up-to-date!\n"
          ]
        }
      ],
      "source": [
        "!pip install nltk\n",
        "import nltk\n",
        "nltk.download('punkt')\n",
        "from nltk.tokenize import word_tokenize\n",
        "import string\n",
        "\n",
        "nama = \"Nanda Rosma Anwar\"\n",
        "nim = \"312110291\"\n",
        "\n",
        "teks = \"\"\"\n",
        "JavaScript populer di internet dan dapat bekerja di sebagian besar penjelajah web populer seperti Google Chrome, Internet Explorer, Mozilla Firefox, Netscape dan Opera.\n",
        "\"\"\"\n",
        "\n",
        "teks_lower = teks.lower()\n",
        "teks_clean = teks_lower.translate(str.maketrans(\"\", \"\", string.punctuation))\n",
        "kata_token = word_tokenize(teks_clean)\n",
        "jumlah_kata = len(kata_token)\n",
        "print(f\"Nama: {nama}\")\n",
        "print(f\"Nim: {nim}\")\n",
        "print(\"Tokenisasi Kata:\", kata_token)\n",
        "print(\"Jumlah Kata:\", jumlah_kata)"
      ]
    }
  ]
}